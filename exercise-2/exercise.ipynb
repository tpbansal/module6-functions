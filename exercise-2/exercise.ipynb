{
 "cells": [
  {
   "cell_type": "markdown",
   "metadata": {},
   "source": [
    "# Exercise-2\n",
    "Add the specified code for each code cell, running the cells _in order_.\n",
    "\n",
    "Note this module involves verifying some [trigonometric identities](https://en.wikipedia.org/wiki/List_of_trigonometric_identities)."
   ]
  },
  {
   "cell_type": "markdown",
   "metadata": {},
   "source": [
    "Import the [`math`](https://docs.python.org/3/library/math.html) module so you can use mathematical functions"
   ]
  },
  {
   "cell_type": "code",
   "execution_count": 1,
   "metadata": {
    "collapsed": false
   },
   "outputs": [],
   "source": [
    "import math"
   ]
  },
  {
   "cell_type": "markdown",
   "metadata": {},
   "source": [
    "Choose any number between 0 and 360 and assign it to a variable `angle_degrees`."
   ]
  },
  {
   "cell_type": "code",
   "execution_count": 16,
   "metadata": {
    "collapsed": false
   },
   "outputs": [
    {
     "name": "stdout",
     "output_type": "stream",
     "text": [
      "100\n"
     ]
    }
   ],
   "source": [
    "angle_degrees = 100\n",
    "print(angle_degrees)"
   ]
  },
  {
   "cell_type": "markdown",
   "metadata": {},
   "source": [
    "Use an appropriate function from the `math` module to convert the degrees value into radians. Store the result in a variable `theta`"
   ]
  },
  {
   "cell_type": "code",
   "execution_count": 17,
   "metadata": {
    "collapsed": false
   },
   "outputs": [
    {
     "name": "stdout",
     "output_type": "stream",
     "text": [
      "1.7453292519943295\n"
     ]
    }
   ],
   "source": [
    "theta = math.radians (angle_degrees)\n",
    "print(theta)"
   ]
  },
  {
   "cell_type": "markdown",
   "metadata": {},
   "source": [
    "Calculate and output the [tangent](https://en.wikipedia.org/wiki/Trigonometric_functions#tan) of `theta`"
   ]
  },
  {
   "cell_type": "code",
   "execution_count": 18,
   "metadata": {
    "collapsed": false
   },
   "outputs": [
    {
     "name": "stdout",
     "output_type": "stream",
     "text": [
      "-5.671281819617711\n"
     ]
    }
   ],
   "source": [
    "tan= math.tan(theta)\n",
    "print(tan)"
   ]
  },
  {
   "cell_type": "markdown",
   "metadata": {},
   "source": [
    "Calculate $\\tan(\\theta + \\pi)$. Output the value to verify that it is the same as $\\tan \\theta$ above."
   ]
  },
  {
   "cell_type": "code",
   "execution_count": 20,
   "metadata": {
    "collapsed": false
   },
   "outputs": [
    {
     "name": "stdout",
     "output_type": "stream",
     "text": [
      "-5.671281819617723\n"
     ]
    }
   ],
   "source": [
    "tan1=math.tan(theta+pi)\n",
    "print(tan1)"
   ]
  },
  {
   "cell_type": "markdown",
   "metadata": {},
   "source": [
    "Calculate $\\sin 2 \\theta$ and $2\\sin \\theta \\cos \\theta$. Print the values to verify that they are equivalent.\n"
   ]
  },
  {
   "cell_type": "code",
   "execution_count": 22,
   "metadata": {
    "collapsed": false
   },
   "outputs": [
    {
     "name": "stdout",
     "output_type": "stream",
     "text": [
      "-0.34202014332566866\n",
      "-0.34202014332566866\n"
     ]
    }
   ],
   "source": [
    "i=math.sin(2*theta)\n",
    "print(i)\n",
    "j= 2*math.sin(theta)*math.cos(theta)\n",
    "print(j)"
   ]
  },
  {
   "cell_type": "markdown",
   "metadata": {},
   "source": [
    "Calculate $\\sin^2 \\theta+\\cos^2 \\theta$. Visually verify that this value is equal to `1`. (Note that there may be rounding errors because of a lack of precision with floating point operations.)\n"
   ]
  },
  {
   "cell_type": "code",
   "execution_count": 27,
   "metadata": {
    "collapsed": false
   },
   "outputs": [
    {
     "name": "stdout",
     "output_type": "stream",
     "text": [
      "1\n"
     ]
    }
   ],
   "source": [
    "k=math.sin(theta)**2 + math.cos(theta)**2\n",
    "z= round(k)\n",
    "print(z)"
   ]
  },
  {
   "cell_type": "markdown",
   "metadata": {},
   "source": [
    "Import just the `random()` function from the [`random`](https://docs.python.org/3/library/random.html) module."
   ]
  },
  {
   "cell_type": "code",
   "execution_count": 30,
   "metadata": {
    "collapsed": false
   },
   "outputs": [],
   "source": [
    "from random import random"
   ]
  },
  {
   "cell_type": "markdown",
   "metadata": {},
   "source": [
    "Call the `random()` function twice, printing out the results each time. Also run this cell multiple times to demonstrate that the ouput does in fact appear to be (pseudo)random."
   ]
  },
  {
   "cell_type": "code",
   "execution_count": 37,
   "metadata": {
    "collapsed": false
   },
   "outputs": [
    {
     "name": "stdout",
     "output_type": "stream",
     "text": [
      "0.3389468577800072\n",
      "0.26227776845838535\n"
     ]
    }
   ],
   "source": [
    "ran=random()\n",
    "ran2=random()\n",
    "print(ran)\n",
    "print(ran2)"
   ]
  },
  {
   "cell_type": "markdown",
   "metadata": {},
   "source": [
    "Generate a random integer between 3 and 18 (inclusive). Import and use an appropriate function from the `random` module."
   ]
  },
  {
   "cell_type": "code",
   "execution_count": 44,
   "metadata": {
    "collapsed": false
   },
   "outputs": [
    {
     "name": "stdout",
     "output_type": "stream",
     "text": [
      "8\n"
     ]
    }
   ],
   "source": [
    "from random import randint\n",
    "ran3=randint(3,18)\n",
    "print(ran3)"
   ]
  },
  {
   "cell_type": "markdown",
   "metadata": {},
   "source": [
    "Import the `seed()` function from the `random` module. This function sets the \"seed\" value used to generate random numbers. Random numbers are generated by taking a seed value and then performing mathematical transformations to it to produce the \"random\" number. The resulting value is then used as the \"seed\" for the next random number generated, allowing sequences of \"pseudorandom\" numbers to be produced. See [here](https://en.wikipedia.org/wiki/Pseudorandom_number_generator). The seed value is normally taken from \"noisy\" values (such as based on the computer's clock), but the `seed()` function allows you to effectively specify \"which sequence\" of random numbers will be produced."
   ]
  },
  {
   "cell_type": "code",
   "execution_count": 46,
   "metadata": {
    "collapsed": false
   },
   "outputs": [
    {
     "name": "stdout",
     "output_type": "stream",
     "text": [
      "None\n"
     ]
    }
   ],
   "source": [
    "from random import seed\n",
    "q= seed()\n",
    "print (q)"
   ]
  },
  {
   "cell_type": "markdown",
   "metadata": {},
   "source": [
    "Use the `seed()` function to set the seed value to be `598`, then call `random()` again twice (printing the results). Then call `seed()` _a second time_, again setting the seed value to be `598`, and call and print `random()` twice more. Are the numbers the same?"
   ]
  },
  {
   "cell_type": "code",
   "execution_count": 55,
   "metadata": {
    "collapsed": false
   },
   "outputs": [
    {
     "name": "stdout",
     "output_type": "stream",
     "text": [
      "0.851422263913554\n",
      "0.09947951633923957\n",
      "0.851422263913554\n",
      "0.09947951633923957\n"
     ]
    }
   ],
   "source": [
    "seed(598)\n",
    "print(random())\n",
    "print(random())\n",
    "seed(598)\n",
    "print(random())\n",
    "print(random())"
   ]
  },
  {
   "cell_type": "markdown",
   "metadata": {},
   "source": [
    "Set `theta` to be a random number between `0` and $2\\pi$, then re-run the above cells that calculated trig identities. Do the identities hold?"
   ]
  },
  {
   "cell_type": "code",
   "execution_count": 84,
   "metadata": {
    "collapsed": false
   },
   "outputs": [
    {
     "name": "stdout",
     "output_type": "stream",
     "text": [
      "-1.2346471294208987 -1.234647129420899\n",
      "-0.9781887621524477 -0.9781887621524477\n"
     ]
    }
   ],
   "source": [
    "from random import uniform\n",
    "theta=uniform(0,2*pi)\n",
    "t1=math.tan(theta)\n",
    "t2=math.tan(theta+ pi)\n",
    "print(t1,t2)\n",
    "s1=math.sin(2*theta)\n",
    "s2=2*math.sin(theta)*math.cos(theta)\n",
    "print(s1,s2)"
   ]
  },
  {
   "cell_type": "code",
   "execution_count": 80,
   "metadata": {
    "collapsed": false
   },
   "outputs": [],
   "source": []
  },
  {
   "cell_type": "code",
   "execution_count": null,
   "metadata": {
    "collapsed": true
   },
   "outputs": [],
   "source": []
  }
 ],
 "metadata": {
  "kernelspec": {
   "display_name": "Python 3",
   "language": "python",
   "name": "python3"
  },
  "language_info": {
   "codemirror_mode": {
    "name": "ipython",
    "version": 3
   },
   "file_extension": ".py",
   "mimetype": "text/x-python",
   "name": "python",
   "nbconvert_exporter": "python",
   "pygments_lexer": "ipython3",
   "version": "3.6.0"
  },
  "toc": {
   "colors": {
    "hover_highlight": "#DAA520",
    "running_highlight": "#FF0000",
    "selected_highlight": "#FFD700"
   },
   "moveMenuLeft": true,
   "nav_menu": {
    "height": "30px",
    "width": "252px"
   },
   "navigate_menu": true,
   "number_sections": true,
   "sideBar": true,
   "threshold": 4,
   "toc_cell": false,
   "toc_section_display": "block",
   "toc_window_display": false,
   "widenNotebook": false
  }
 },
 "nbformat": 4,
 "nbformat_minor": 2
}
